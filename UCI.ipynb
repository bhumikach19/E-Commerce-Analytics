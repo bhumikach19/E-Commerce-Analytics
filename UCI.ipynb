{
  "nbformat": 4,
  "nbformat_minor": 0,
  "metadata": {
    "colab": {
      "provenance": []
    },
    "kernelspec": {
      "name": "python3",
      "display_name": "Python 3"
    },
    "language_info": {
      "name": "python"
    }
  },
  "cells": [
    {
      "cell_type": "code",
      "execution_count": null,
      "metadata": {
        "colab": {
          "base_uri": "https://localhost:8080/"
        },
        "id": "hFKrhp9LFXOL",
        "outputId": "80c1a49f-d79e-41d6-fa4a-705efbaef707"
      },
      "outputs": [
        {
          "output_type": "stream",
          "name": "stdout",
          "text": [
            "  Invoice StockCode                          Description  Quantity  \\\n",
            "0  489434     85048  15CM CHRISTMAS GLASS BALL 20 LIGHTS      12.0   \n",
            "1  489434    79323P                   PINK CHERRY LIGHTS      12.0   \n",
            "2  489434    79323W                  WHITE CHERRY LIGHTS      12.0   \n",
            "3  489434     22041         RECORD FRAME 7\" SINGLE SIZE       48.0   \n",
            "4  489434     21232       STRAWBERRY CERAMIC TRINKET BOX      24.0   \n",
            "\n",
            "           InvoiceDate  Price  Customer ID         Country  \n",
            "0  2009-12-01 07:45:00   6.95      13085.0  United Kingdom  \n",
            "1  2009-12-01 07:45:00   6.75      13085.0  United Kingdom  \n",
            "2  2009-12-01 07:45:00   6.75      13085.0  United Kingdom  \n",
            "3  2009-12-01 07:45:00   2.10      13085.0  United Kingdom  \n",
            "4  2009-12-01 07:45:00   1.25      13085.0  United Kingdom  \n",
            "<class 'pandas.core.frame.DataFrame'>\n",
            "RangeIndex: 814845 entries, 0 to 814844\n",
            "Data columns (total 8 columns):\n",
            " #   Column       Non-Null Count   Dtype  \n",
            "---  ------       --------------   -----  \n",
            " 0   Invoice      814845 non-null  object \n",
            " 1   StockCode    814845 non-null  object \n",
            " 2   Description  810829 non-null  object \n",
            " 3   Quantity     814844 non-null  float64\n",
            " 4   InvoiceDate  814844 non-null  object \n",
            " 5   Price        814844 non-null  float64\n",
            " 6   Customer ID  625196 non-null  float64\n",
            " 7   Country      814844 non-null  object \n",
            "dtypes: float64(3), object(5)\n",
            "memory usage: 49.7+ MB\n",
            "None\n",
            "            Quantity          Price    Customer ID\n",
            "count  814844.000000  814844.000000  625196.000000\n",
            "mean       10.009201       4.802611   15333.487809\n",
            "std       149.049311     135.072449    1698.394004\n",
            "min    -74215.000000  -53594.360000   12346.000000\n",
            "25%         1.000000       1.250000   13956.000000\n",
            "50%         3.000000       2.100000   15279.000000\n",
            "75%        10.000000       4.210000   16813.000000\n",
            "max     74215.000000   38970.000000   18287.000000\n"
          ]
        }
      ],
      "source": [
        "import pandas as pd\n",
        "import numpy as np\n",
        "\n",
        "# Load the dataset\n",
        "df = pd.read_csv(\"/content/online_retail_II.csv\")\n",
        "\n",
        "# Display the first few rows and get info\n",
        "print(df.head())\n",
        "print(df.info())\n",
        "print(df.describe())"
      ]
    },
    {
      "cell_type": "code",
      "source": [
        "# Drop rows where CustomerID is missing\n",
        "df.dropna(subset=['Customer ID'], inplace=True)"
      ],
      "metadata": {
        "id": "mLh1eciKFpdc"
      },
      "execution_count": null,
      "outputs": []
    },
    {
      "cell_type": "code",
      "source": [
        "df.drop_duplicates(inplace=True)"
      ],
      "metadata": {
        "id": "ghXTra-hFyt6"
      },
      "execution_count": null,
      "outputs": []
    },
    {
      "cell_type": "code",
      "source": [
        "df['InvoiceDate'] = pd.to_datetime(df['InvoiceDate'])"
      ],
      "metadata": {
        "id": "6CnC7kisII1b"
      },
      "execution_count": null,
      "outputs": []
    },
    {
      "cell_type": "code",
      "source": [
        "# Keep only rows with positive quantity\n",
        "df = df[df['Quantity'] > 0]"
      ],
      "metadata": {
        "id": "oM_UiwUVIMqc"
      },
      "execution_count": null,
      "outputs": []
    },
    {
      "cell_type": "code",
      "source": [
        "df['TotalPrice'] = df['Quantity'] * df['Price']"
      ],
      "metadata": {
        "id": "psp7Xs33IP1t"
      },
      "execution_count": null,
      "outputs": []
    },
    {
      "cell_type": "code",
      "source": [
        "# Save the cleaned data to a CSV file\n",
        "df.to_csv('cleaned_retail_data.csv', index=False)"
      ],
      "metadata": {
        "id": "VLXF-6X7ITBT"
      },
      "execution_count": null,
      "outputs": []
    },
    {
      "cell_type": "code",
      "source": [
        "df_cleaned = pd.read_csv('cleaned_retail_data.csv')"
      ],
      "metadata": {
        "id": "kmGA3Ip1Ibzb"
      },
      "execution_count": null,
      "outputs": []
    },
    {
      "cell_type": "code",
      "source": [
        "import pandas as pd\n",
        "import sqlite3\n",
        "\n",
        "# --- 1. Load and Clean Data ---\n",
        "print(\"Step 1: Loading and cleaning data...\")\n",
        "try:\n",
        "    df = pd.read_csv(\"/content/cleaned_retail_data.csv\")\n",
        "except FileNotFoundError:\n",
        "    print(\"\\nERROR: Make sure 'Online Retail.xlsx' is in the same directory as this script.\")\n",
        "    exit()\n",
        "\n",
        "# Drop rows where CustomerID is missing\n",
        "df.dropna(subset=['Customer ID'], inplace=True)\n",
        "# Keep only rows with positive quantity (sales, not returns)\n",
        "df = df[df['Quantity'] > 0]\n",
        "# Drop any duplicate rows\n",
        "df.drop_duplicates(inplace=True)\n",
        "\n",
        "# --- 2. Ensure Correct Data Types (CRITICAL STEP) ---\n",
        "print(\"Step 2: Converting data types...\")\n",
        "# Convert InvoiceDate to datetime objects\n",
        "df['InvoiceDate'] = pd.to_datetime(df['InvoiceDate'])\n",
        "# Create TotalPrice column\n",
        "df['TotalPrice'] = df['Quantity'] * df['Price']\n",
        "\n",
        "\n",
        "# --- 3. Recreate the Database and Table ---\n",
        "print(\"Step 3: Creating fresh database 'ecommerce.db'...\")\n",
        "db_name = 'ecommerce.db'\n",
        "table_name = 'retail'\n",
        "conn = sqlite3.connect(db_name)\n",
        "\n",
        "# Use 'if_exists='replace'' to ensure we start with a clean slate\n",
        "df.to_sql(table_name, conn, if_exists='replace', index=False)\n",
        "\n",
        "print(f\"Table '{table_name}' created successfully in '{db_name}'.\")\n",
        "\n",
        "\n",
        "# --- 4. Run the SQL Query Directly ---\n",
        "print(\"\\nStep 4: Running the SQL query...\")\n",
        "sql_query = \"\"\"\n",
        "SELECT\n",
        "    strftime('%Y-%m', InvoiceDate) AS SalesMonth,\n",
        "    SUM(TotalPrice) AS MonthlyRevenue\n",
        "FROM\n",
        "    retail\n",
        "GROUP BY\n",
        "    SalesMonth\n",
        "ORDER BY\n",
        "    SalesMonth;\n",
        "\"\"\"\n",
        "# Use pandas to execute the query and get the result\n",
        "try:\n",
        "    result_df = pd.read_sql_query(sql_query, conn)\n",
        "    print(\"\\n--- QUERY RESULT ---\")\n",
        "    if result_df.empty:\n",
        "        print(\"The query ran but returned no data. The source data might be the issue.\")\n",
        "    else:\n",
        "        # Print the results from the DataFrame\n",
        "        print(result_df)\n",
        "\n",
        "        result_df.to_csv('monthly_revenue.csv', index=False)\n",
        "        print(\"\\nSuccess! Query output saved to 'monthly_revenue.csv'.\")\n",
        "\n",
        "    print(\"--------------------\")\n",
        "\n",
        "except Exception as e:\n",
        "    print(f\"\\nAn error occurred while querying the database: {e}\")\n",
        "\n",
        "finally:\n",
        "    # Close the connection\n",
        "    conn.close()"
      ],
      "metadata": {
        "id": "6LWLl7GKbQy_",
        "colab": {
          "base_uri": "https://localhost:8080/"
        },
        "outputId": "58caa705-161d-4497-edeb-f46ec6578732"
      },
      "execution_count": null,
      "outputs": [
        {
          "output_type": "stream",
          "name": "stdout",
          "text": [
            "Step 1: Loading and cleaning data...\n",
            "Step 2: Converting data types...\n",
            "Step 3: Creating fresh database 'ecommerce.db'...\n",
            "Table 'retail' created successfully in 'ecommerce.db'.\n",
            "\n",
            "Step 4: Running the SQL query...\n",
            "\n",
            "--- QUERY RESULT ---\n",
            "   SalesMonth  MonthlyRevenue\n",
            "0     2009-12      683504.010\n",
            "1     2010-01      555802.672\n",
            "2     2010-02      504558.956\n",
            "3     2010-03      696978.471\n",
            "4     2010-04      591982.002\n",
            "5     2010-05      597833.380\n",
            "6     2010-06      636371.130\n",
            "7     2010-07      589736.170\n",
            "8     2010-08      602224.600\n",
            "9     2010-09      829013.951\n",
            "10    2010-10     1033112.010\n",
            "11    2010-11     1166460.022\n",
            "12    2010-12      570422.730\n",
            "13    2011-01      568101.310\n",
            "14    2011-02      446084.920\n",
            "15    2011-03      594081.760\n",
            "16    2011-04      468374.331\n",
            "17    2011-05      677355.150\n",
            "18    2011-06      660046.050\n",
            "19    2011-07      598962.901\n",
            "20    2011-08       65576.690\n",
            "\n",
            "Success! Query output saved to 'monthly_revenue.csv'.\n",
            "--------------------\n"
          ]
        }
      ]
    },
    {
      "cell_type": "code",
      "source": [
        "# Convert the 'InvoiceDate' column to a datetime type\n",
        "df_cleaned['InvoiceDate'] = pd.to_datetime(df_cleaned['InvoiceDate'])\n",
        "\n",
        "# Use the cleaned dataframe loaded earlier\n",
        "snapshot_date = df_cleaned['InvoiceDate'].max() + pd.Timedelta(days=1)\n",
        "\n",
        "df_rfm = df_cleaned.groupby('Customer ID').agg({\n",
        "    'InvoiceDate': lambda date: (snapshot_date - date.max()).days,\n",
        "    'Invoice': 'nunique',\n",
        "    'TotalPrice': 'sum'\n",
        "})\n",
        "\n",
        "# Rename columns\n",
        "df_rfm.rename(columns={'InvoiceDate': 'Recency',\n",
        "                       'Invoice': 'Frequency',\n",
        "                       'TotalPrice': 'MonetaryValue'}, inplace=True)"
      ],
      "metadata": {
        "id": "h8PaEo86h4Sh"
      },
      "execution_count": null,
      "outputs": []
    },
    {
      "cell_type": "code",
      "source": [
        "from sklearn.preprocessing import StandardScaler\n",
        "from sklearn.cluster import KMeans\n",
        "\n",
        "# Log transform to handle skewed data\n",
        "rfm_log = np.log1p(df_rfm)\n",
        "\n",
        "# Scale the data\n",
        "scaler = StandardScaler()\n",
        "rfm_scaled = scaler.fit_transform(rfm_log)"
      ],
      "metadata": {
        "id": "cjv8NZJzi_GX"
      },
      "execution_count": null,
      "outputs": []
    },
    {
      "cell_type": "code",
      "source": [
        "# Find optimal k\n",
        "sse = {}\n",
        "for k in range(1, 11):\n",
        "    kmeans = KMeans(n_clusters=k, random_state=42)\n",
        "    kmeans.fit(rfm_scaled)\n",
        "    sse[k] = kmeans.inertia_\n",
        "# Plot SSE to find the elbow (e.g., k=3 or 4)"
      ],
      "metadata": {
        "id": "oMYn9GO6kBId"
      },
      "execution_count": null,
      "outputs": []
    },
    {
      "cell_type": "code",
      "source": [
        "# Assuming k=4 from elbow method\n",
        "kmeans = KMeans(n_clusters=4, random_state=42)\n",
        "df_rfm['Cluster'] = kmeans.fit_predict(rfm_scaled)\n",
        "\n",
        "# Save the results with customer segments\n",
        "df_rfm.to_csv('customer_segments.csv')"
      ],
      "metadata": {
        "id": "tx4xOjQVkEqC"
      },
      "execution_count": null,
      "outputs": []
    },
    {
      "cell_type": "code",
      "source": [],
      "metadata": {
        "id": "N6Z7fi_akH-k"
      },
      "execution_count": null,
      "outputs": []
    }
  ]
}